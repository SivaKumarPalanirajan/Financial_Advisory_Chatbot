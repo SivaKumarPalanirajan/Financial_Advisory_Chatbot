{
 "cells": [
  {
   "cell_type": "markdown",
   "metadata": {},
   "source": [
    "Preprocessing"
   ]
  },
  {
   "cell_type": "code",
   "execution_count": 237,
   "metadata": {},
   "outputs": [
    {
     "data": {
      "text/html": [
       "<div>\n",
       "<style scoped>\n",
       "    .dataframe tbody tr th:only-of-type {\n",
       "        vertical-align: middle;\n",
       "    }\n",
       "\n",
       "    .dataframe tbody tr th {\n",
       "        vertical-align: top;\n",
       "    }\n",
       "\n",
       "    .dataframe thead th {\n",
       "        text-align: right;\n",
       "    }\n",
       "</style>\n",
       "<table border=\"1\" class=\"dataframe\">\n",
       "  <thead>\n",
       "    <tr style=\"text-align: right;\">\n",
       "      <th></th>\n",
       "      <th>Sentences</th>\n",
       "      <th>Category</th>\n",
       "    </tr>\n",
       "  </thead>\n",
       "  <tbody>\n",
       "    <tr>\n",
       "      <th>0</th>\n",
       "      <td>I would like to know the balance evolution</td>\n",
       "      <td>balance evolution</td>\n",
       "    </tr>\n",
       "    <tr>\n",
       "      <th>1</th>\n",
       "      <td>Can you show me the balance evolution?</td>\n",
       "      <td>balance evolution</td>\n",
       "    </tr>\n",
       "    <tr>\n",
       "      <th>2</th>\n",
       "      <td>Please provide details about the balance evolu...</td>\n",
       "      <td>balance evolution</td>\n",
       "    </tr>\n",
       "    <tr>\n",
       "      <th>3</th>\n",
       "      <td>I'm interested in understanding the balance ev...</td>\n",
       "      <td>balance evolution</td>\n",
       "    </tr>\n",
       "    <tr>\n",
       "      <th>4</th>\n",
       "      <td>Could you explain the balance evolution?</td>\n",
       "      <td>balance evolution</td>\n",
       "    </tr>\n",
       "    <tr>\n",
       "      <th>...</th>\n",
       "      <td>...</td>\n",
       "      <td>...</td>\n",
       "    </tr>\n",
       "    <tr>\n",
       "      <th>150</th>\n",
       "      <td>How do I bake a chocolate cake?</td>\n",
       "      <td>random</td>\n",
       "    </tr>\n",
       "    <tr>\n",
       "      <th>151</th>\n",
       "      <td>I’m looking for a new hobby, what do you recom...</td>\n",
       "      <td>random</td>\n",
       "    </tr>\n",
       "    <tr>\n",
       "      <th>152</th>\n",
       "      <td>What’s the most important skill to learn?</td>\n",
       "      <td>random</td>\n",
       "    </tr>\n",
       "    <tr>\n",
       "      <th>153</th>\n",
       "      <td>How can I improve my coding skills?</td>\n",
       "      <td>random</td>\n",
       "    </tr>\n",
       "    <tr>\n",
       "      <th>154</th>\n",
       "      <td>Can you recommend a good workout routine?</td>\n",
       "      <td>random</td>\n",
       "    </tr>\n",
       "  </tbody>\n",
       "</table>\n",
       "<p>155 rows × 2 columns</p>\n",
       "</div>"
      ],
      "text/plain": [
       "                                             Sentences           Category\n",
       "0           I would like to know the balance evolution  balance evolution\n",
       "1               Can you show me the balance evolution?  balance evolution\n",
       "2    Please provide details about the balance evolu...  balance evolution\n",
       "3    I'm interested in understanding the balance ev...  balance evolution\n",
       "4             Could you explain the balance evolution?  balance evolution\n",
       "..                                                 ...                ...\n",
       "150                    How do I bake a chocolate cake?             random\n",
       "151  I’m looking for a new hobby, what do you recom...             random\n",
       "152          What’s the most important skill to learn?             random\n",
       "153                How can I improve my coding skills?             random\n",
       "154          Can you recommend a good workout routine?             random\n",
       "\n",
       "[155 rows x 2 columns]"
      ]
     },
     "execution_count": 237,
     "metadata": {},
     "output_type": "execute_result"
    }
   ],
   "source": [
    "import pandas as pd \n",
    "import sklearn\n",
    "import pickle \n",
    "from sklearn.naive_bayes import MultinomialNB\n",
    "from sklearn.feature_extraction.text import TfidfVectorizer\n",
    "from sklearn.model_selection import train_test_split \n",
    "from sklearn.metrics import accuracy_score,classification_report,precision_score\n",
    "import nltk \n",
    "from nltk.corpus import stopwords\n",
    "from nltk.stem import WordNetLemmatizer\n",
    "import re \n",
    "data=pd.read_excel(\"../Data/Convo_Data.xlsx\")\n",
    "data"
   ]
  },
  {
   "cell_type": "code",
   "execution_count": 238,
   "metadata": {},
   "outputs": [],
   "source": [
    "def preprocess(data):\n",
    "    sent=list(data[\"Sentences\"])\n",
    "    corpus=[]\n",
    "    lemmatizer=WordNetLemmatizer()\n",
    "    for i in sent:\n",
    "        i=re.sub('[^a-zA-z]',\" \",i)\n",
    "        i=i.split()\n",
    "        i=[lemmatizer.lemmatize(j) for j in i]\n",
    "        corpus.append(\" \".join(i))\n",
    "    return corpus\n"
   ]
  },
  {
   "cell_type": "code",
   "execution_count": 239,
   "metadata": {},
   "outputs": [
    {
     "name": "stdout",
     "output_type": "stream",
     "text": [
      "['I would like to know the balance evolution', 'Can you show me the balance evolution', 'Please provide detail about the balance evolution', 'I m interested in understanding the balance evolution', 'Could you explain the balance evolution', 'Let me know the balance evolution', 'What s the balance evolution like', 'Could I get some information about the balance evolution', 'I need to know the balance evolution', 'Tell me about the balance evolution', 'Can I have insight on balance evolution', 'What s the current balance evolution', 'Explain the balance evolution to me please', 'Could you summarize the balance evolution', 'Help me understand the balance evolution', 'How ha the balance evolved', 'Give me the balance evolution data', 'Let me know how the balance evolved', 'Show me the balance evolution statistic', 'Please inform me of the balance evolution', 'I want to understand the balance evolution better', 'What is the balance evolution trend', 'Give detail on balance evolution', 'Can you tell me the balance evolution history', 'Provide a summary of the balance evolution', 'I would like to predict my future balance', 'Can you predict my future balance', 'Please provide future balance prediction', 'I m interested in predicting my balance', 'Could you help me predict my future balance', 'Let me know my future balance prediction', 'What s the prediction for my future balance', 'Could I get some balance prediction information', 'I need help predicting my future balance', 'Tell me how to predict my balance', 'Can I have insight on future balance prediction', 'What s the current prediction for my future balance', 'Explain the future balance prediction to me', 'Could you summarize the future balance prediction', 'Help me predict my balance for the future', 'How will my balance evolve in the future', 'Give me prediction for my future balance', 'Let me know how my balance is expected to evolve', 'Show me the future balance prediction statistic', 'Please inform me of future balance trend', 'I want to predict my balance better', 'What are the future balance prediction', 'Give detail on future balance prediction', 'Can you tell me the future balance forecast', 'Provide a summary of future balance prediction', 'I would like to know the transaction density', 'Can you show me the transaction density', 'Please provide detail about the transaction density', 'I m interested in understanding the transaction density', 'Could you explain the transaction density', 'Let me know the transaction density', 'What s the transaction density like', 'Could I get some information about the transaction density', 'I need to know the transaction density', 'Tell me about the transaction density', 'Can I have insight on transaction density', 'What s the current transaction density', 'Explain the transaction density to me please', 'Could you summarize the transaction density', 'Help me understand the transaction density', 'How dense are my transaction', 'Give me the transaction density data', 'Let me know how the transaction density ha evolved', 'Show me the transaction density statistic', 'Please inform me of the transaction density trend', 'I want to understand the transaction density better', 'What is the transaction density trend', 'Give detail on transaction density', 'Can you tell me the transaction density history', 'Provide a summary of the transaction density', 'Thank you', 'Thanks', 'Thank you so much', 'I appreciate it', 'I am grateful', 'Thanks a lot', 'Much appreciated', 'Many thanks', 'Thank you kindly', 'Thanks so much', 'I appreciate your help', 'Thank you for your assistance', 'Thank you for helping me', 'I appreciate your support', 'Thanks for everything', 'Thanks for your help', 'Thank you for your effort', 'I m thankful', 'Grateful for your help', 'Much obliged', 'I appreciate the help', 'Thank you for your time', 'Thanks for your time', 'I appreciate your input', 'Thank you I appreciate it', 'Hello there', 'Hi', 'Hey', 'Good day', 'Greetings', 'Hi there', 'Hello', 'Hey there', 'Good to see you', 'How are you', 'Hello again', 'Howdy', 'Hi again', 'What s up', 'Good morning', 'Good afternoon', 'Good evening', 'Nice to see you', 'How s it going', 'How have you been', 'Hello how are you', 'Hi how s it going', 'How are thing', 'How are you doing', 'Pleased to meet you', 'I need to schedule a meeting for next week', 'Can you recommend a good restaurant nearby', 'What s the weather forecast for tomorrow', 'I m planning a vacation any suggestion', 'How do I get to the nearest train station', 'Can you help me with my homework', 'I need a new book to read any recommendation', 'What s the best way to learn a new language', 'Do you know the time', 'Can you give me direction to the museum', 'What s the capital of France', 'How do I register for this course', 'Can you tell me more about machine learning', 'What s the best movie you ve watched recently', 'I m looking for a gift for my friend any idea', 'How do I improve my public speaking skill', 'Can you help me with my presentation', 'What are the top tourist attraction in New York', 'How do I start investing in stock', 'Can you explain quantum physic', 'What s the process for applying for a visa', 'Do you know a good place to buy grocery', 'How can I improve my photography skill', 'Can you tell me about the latest news', 'What s your favorite type of music', 'How do I bake a chocolate cake', 'I m looking for a new hobby what do you recommend', 'What s the most important skill to learn', 'How can I improve my coding skill', 'Can you recommend a good workout routine']\n"
     ]
    }
   ],
   "source": [
    "preprocessed_data=preprocess(data)\n",
    "print(preprocessed_data)\n",
    "data[\"Sentences\"]=preprocessed_data\n",
    "x=data[\"Sentences\"]\n",
    "y=data[\"Category\"]"
   ]
  },
  {
   "cell_type": "code",
   "execution_count": 240,
   "metadata": {},
   "outputs": [
    {
     "data": {
      "text/plain": [
       "107                                    Hey there\n",
       "124                          Pleased to meet you\n",
       "104                                    Greetings\n",
       "26             Can you predict my future balance\n",
       "117                              Nice to see you\n",
       "                         ...                    \n",
       "75                                     Thank you\n",
       "129    How do I get to the nearest train station\n",
       "28       I m interested in predicting my balance\n",
       "147       How can I improve my photography skill\n",
       "40      How will my balance evolve in the future\n",
       "Name: Sentences, Length: 124, dtype: object"
      ]
     },
     "execution_count": 240,
     "metadata": {},
     "output_type": "execute_result"
    }
   ],
   "source": [
    "x_train,x_test,y_train,y_test=train_test_split(x,y,test_size=0.2)\n",
    "x_train"
   ]
  },
  {
   "cell_type": "markdown",
   "metadata": {},
   "source": [
    "Vectorization"
   ]
  },
  {
   "cell_type": "code",
   "execution_count": 241,
   "metadata": {},
   "outputs": [],
   "source": [
    "vectorizer=TfidfVectorizer(stop_words='english')\n",
    "x_train=vectorizer.fit_transform(x_train)\n",
    "x_test=vectorizer.transform(x_test)"
   ]
  },
  {
   "cell_type": "code",
   "execution_count": 242,
   "metadata": {},
   "outputs": [],
   "source": [
    "pickle.dump(vectorizer,open(\"../Models/vectorizer.sav\",\"wb\"))"
   ]
  },
  {
   "cell_type": "markdown",
   "metadata": {},
   "source": [
    "Training of the Model"
   ]
  },
  {
   "cell_type": "code",
   "execution_count": 243,
   "metadata": {},
   "outputs": [
    {
     "data": {
      "text/html": [
       "<style>#sk-container-id-32 {color: black;}#sk-container-id-32 pre{padding: 0;}#sk-container-id-32 div.sk-toggleable {background-color: white;}#sk-container-id-32 label.sk-toggleable__label {cursor: pointer;display: block;width: 100%;margin-bottom: 0;padding: 0.3em;box-sizing: border-box;text-align: center;}#sk-container-id-32 label.sk-toggleable__label-arrow:before {content: \"▸\";float: left;margin-right: 0.25em;color: #696969;}#sk-container-id-32 label.sk-toggleable__label-arrow:hover:before {color: black;}#sk-container-id-32 div.sk-estimator:hover label.sk-toggleable__label-arrow:before {color: black;}#sk-container-id-32 div.sk-toggleable__content {max-height: 0;max-width: 0;overflow: hidden;text-align: left;background-color: #f0f8ff;}#sk-container-id-32 div.sk-toggleable__content pre {margin: 0.2em;color: black;border-radius: 0.25em;background-color: #f0f8ff;}#sk-container-id-32 input.sk-toggleable__control:checked~div.sk-toggleable__content {max-height: 200px;max-width: 100%;overflow: auto;}#sk-container-id-32 input.sk-toggleable__control:checked~label.sk-toggleable__label-arrow:before {content: \"▾\";}#sk-container-id-32 div.sk-estimator input.sk-toggleable__control:checked~label.sk-toggleable__label {background-color: #d4ebff;}#sk-container-id-32 div.sk-label input.sk-toggleable__control:checked~label.sk-toggleable__label {background-color: #d4ebff;}#sk-container-id-32 input.sk-hidden--visually {border: 0;clip: rect(1px 1px 1px 1px);clip: rect(1px, 1px, 1px, 1px);height: 1px;margin: -1px;overflow: hidden;padding: 0;position: absolute;width: 1px;}#sk-container-id-32 div.sk-estimator {font-family: monospace;background-color: #f0f8ff;border: 1px dotted black;border-radius: 0.25em;box-sizing: border-box;margin-bottom: 0.5em;}#sk-container-id-32 div.sk-estimator:hover {background-color: #d4ebff;}#sk-container-id-32 div.sk-parallel-item::after {content: \"\";width: 100%;border-bottom: 1px solid gray;flex-grow: 1;}#sk-container-id-32 div.sk-label:hover label.sk-toggleable__label {background-color: #d4ebff;}#sk-container-id-32 div.sk-serial::before {content: \"\";position: absolute;border-left: 1px solid gray;box-sizing: border-box;top: 0;bottom: 0;left: 50%;z-index: 0;}#sk-container-id-32 div.sk-serial {display: flex;flex-direction: column;align-items: center;background-color: white;padding-right: 0.2em;padding-left: 0.2em;position: relative;}#sk-container-id-32 div.sk-item {position: relative;z-index: 1;}#sk-container-id-32 div.sk-parallel {display: flex;align-items: stretch;justify-content: center;background-color: white;position: relative;}#sk-container-id-32 div.sk-item::before, #sk-container-id-32 div.sk-parallel-item::before {content: \"\";position: absolute;border-left: 1px solid gray;box-sizing: border-box;top: 0;bottom: 0;left: 50%;z-index: -1;}#sk-container-id-32 div.sk-parallel-item {display: flex;flex-direction: column;z-index: 1;position: relative;background-color: white;}#sk-container-id-32 div.sk-parallel-item:first-child::after {align-self: flex-end;width: 50%;}#sk-container-id-32 div.sk-parallel-item:last-child::after {align-self: flex-start;width: 50%;}#sk-container-id-32 div.sk-parallel-item:only-child::after {width: 0;}#sk-container-id-32 div.sk-dashed-wrapped {border: 1px dashed gray;margin: 0 0.4em 0.5em 0.4em;box-sizing: border-box;padding-bottom: 0.4em;background-color: white;}#sk-container-id-32 div.sk-label label {font-family: monospace;font-weight: bold;display: inline-block;line-height: 1.2em;}#sk-container-id-32 div.sk-label-container {text-align: center;}#sk-container-id-32 div.sk-container {/* jupyter's `normalize.less` sets `[hidden] { display: none; }` but bootstrap.min.css set `[hidden] { display: none !important; }` so we also need the `!important` here to be able to override the default hidden behavior on the sphinx rendered scikit-learn.org. See: https://github.com/scikit-learn/scikit-learn/issues/21755 */display: inline-block !important;position: relative;}#sk-container-id-32 div.sk-text-repr-fallback {display: none;}</style><div id=\"sk-container-id-32\" class=\"sk-top-container\"><div class=\"sk-text-repr-fallback\"><pre>MultinomialNB(alpha=1)</pre><b>In a Jupyter environment, please rerun this cell to show the HTML representation or trust the notebook. <br />On GitHub, the HTML representation is unable to render, please try loading this page with nbviewer.org.</b></div><div class=\"sk-container\" hidden><div class=\"sk-item\"><div class=\"sk-estimator sk-toggleable\"><input class=\"sk-toggleable__control sk-hidden--visually\" id=\"sk-estimator-id-32\" type=\"checkbox\" checked><label for=\"sk-estimator-id-32\" class=\"sk-toggleable__label sk-toggleable__label-arrow\">MultinomialNB</label><div class=\"sk-toggleable__content\"><pre>MultinomialNB(alpha=1)</pre></div></div></div></div></div>"
      ],
      "text/plain": [
       "MultinomialNB(alpha=1)"
      ]
     },
     "execution_count": 243,
     "metadata": {},
     "output_type": "execute_result"
    }
   ],
   "source": [
    "model=MultinomialNB(alpha=1)\n",
    "model.fit(x_train,y_train)"
   ]
  },
  {
   "cell_type": "code",
   "execution_count": 244,
   "metadata": {},
   "outputs": [
    {
     "name": "stdout",
     "output_type": "stream",
     "text": [
      "0.9758064516129032\n",
      "0.967741935483871\n"
     ]
    }
   ],
   "source": [
    "pred=model.predict(x_test)\n",
    "print(model.score(x_train,y_train))\n",
    "print(accuracy_score(y_test,pred))\n"
   ]
  },
  {
   "cell_type": "code",
   "execution_count": 245,
   "metadata": {},
   "outputs": [],
   "source": [
    "pickle.dump(model,open(\"../Models/inp_checker.sav\",'wb'))"
   ]
  },
  {
   "cell_type": "markdown",
   "metadata": {},
   "source": [
    "Testing on sample text"
   ]
  },
  {
   "cell_type": "code",
   "execution_count": 246,
   "metadata": {},
   "outputs": [
    {
     "name": "stdout",
     "output_type": "stream",
     "text": [
      "For \"help with finding the evolution of my account balance\" : the prediction is \"balance evolution\" \n"
     ]
    }
   ],
   "source": [
    "check=pickle.load(open('../Models/inp_checker.sav',\"rb\"))\n",
    "vector=pickle.load(open('../Models/vectorizer.sav',\"rb\"))\n",
    "\n",
    "samp=\"help with finding the evolution of my account balance\"\n",
    "txt=[samp]\n",
    "input=vector.transform(txt)\n",
    "prediction=check.predict(input)\n",
    "print(f\"\"\"For \"{samp}\" : the prediction is \"{\"\".join(prediction)}\" \"\"\")"
   ]
  }
 ],
 "metadata": {
  "kernelspec": {
   "display_name": "base",
   "language": "python",
   "name": "python3"
  },
  "language_info": {
   "codemirror_mode": {
    "name": "ipython",
    "version": 3
   },
   "file_extension": ".py",
   "mimetype": "text/x-python",
   "name": "python",
   "nbconvert_exporter": "python",
   "pygments_lexer": "ipython3",
   "version": "3.11.4"
  }
 },
 "nbformat": 4,
 "nbformat_minor": 2
}
